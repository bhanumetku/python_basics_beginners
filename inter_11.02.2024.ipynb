{
 "cells": [
  {
   "cell_type": "markdown",
   "id": "893c80ab",
   "metadata": {},
   "source": [
    "# fliprobo_internship_DS2402"
   ]
  },
  {
   "cell_type": "code",
   "execution_count": 14,
   "id": "0548fd36",
   "metadata": {},
   "outputs": [],
   "source": [
    "# Question 1:"
   ]
  },
  {
   "cell_type": "code",
   "execution_count": 15,
   "id": "21127410",
   "metadata": {},
   "outputs": [],
   "source": [
    "def func(a,b):\n",
    "    if a == 0:\n",
    "        return b\n",
    "    else:\n",
    "        return func(b%a, a)\n",
    "        "
   ]
  },
  {
   "cell_type": "code",
   "execution_count": 16,
   "id": "a98641b6",
   "metadata": {},
   "outputs": [
    {
     "name": "stdout",
     "output_type": "stream",
     "text": [
      "15\n"
     ]
    }
   ],
   "source": [
    "print(func(30,75))"
   ]
  },
  {
   "cell_type": "markdown",
   "id": "da1e92c3",
   "metadata": {},
   "source": [
    "Answer: c) 15"
   ]
  },
  {
   "cell_type": "code",
   "execution_count": 19,
   "id": "139e38b5",
   "metadata": {},
   "outputs": [],
   "source": [
    "# Question 2:"
   ]
  },
  {
   "cell_type": "code",
   "execution_count": 20,
   "id": "9434be96",
   "metadata": {},
   "outputs": [
    {
     "name": "stdout",
     "output_type": "stream",
     "text": [
      "<class 'filter'>\n"
     ]
    }
   ],
   "source": [
    "numbers = (4,7,19,2,89,45,72,22)\n",
    "\n",
    "sorted_numbers = sorted(numbers)\n",
    "even = lambda a:a%2 == 0\n",
    "\n",
    "even_numbers = filter(even, sorted_numbers)\n",
    "\n",
    "print(type(even_numbers))"
   ]
  },
  {
   "cell_type": "markdown",
   "id": "8b8944d9",
   "metadata": {},
   "source": [
    "Answer: b) Filter"
   ]
  },
  {
   "cell_type": "code",
   "execution_count": 21,
   "id": "be89c0ec",
   "metadata": {},
   "outputs": [],
   "source": [
    "# Question 3:"
   ]
  },
  {
   "cell_type": "markdown",
   "id": "811a7538",
   "metadata": {},
   "source": [
    "As what datatype are the *args stored, when passed into \n",
    "a) Tuple\n",
    "b) List\n",
    "c) Dictionary\n",
    "d) none"
   ]
  },
  {
   "cell_type": "markdown",
   "id": "9dcbf7da",
   "metadata": {},
   "source": [
    "Answer: a) Tuple"
   ]
  },
  {
   "cell_type": "code",
   "execution_count": 22,
   "id": "677788bc",
   "metadata": {},
   "outputs": [],
   "source": [
    "# Question 4:"
   ]
  },
  {
   "cell_type": "code",
   "execution_count": 28,
   "id": "7fa72199",
   "metadata": {},
   "outputs": [
    {
     "ename": "TypeError",
     "evalue": "unsupported operand type(s) for +: 'set' and 'set'",
     "output_type": "error",
     "traceback": [
      "\u001b[0;31m---------------------------------------------------------------------------\u001b[0m",
      "\u001b[0;31mTypeError\u001b[0m                                 Traceback (most recent call last)",
      "Cell \u001b[0;32mIn[28], line 5\u001b[0m\n\u001b[1;32m      2\u001b[0m set2 \u001b[38;5;241m=\u001b[39m {\u001b[38;5;241m82\u001b[39m, \u001b[38;5;241m49\u001b[39m, \u001b[38;5;241m62\u001b[39m} \n\u001b[1;32m      3\u001b[0m set3\u001b[38;5;241m=\u001b[39m{\u001b[38;5;241m99\u001b[39m,\u001b[38;5;241m22\u001b[39m,\u001b[38;5;241m17\u001b[39m}\n\u001b[0;32m----> 5\u001b[0m \u001b[38;5;28mprint\u001b[39m(\u001b[38;5;28mlen\u001b[39m(set1 \u001b[38;5;241m+\u001b[39m set2 \u001b[38;5;241m+\u001b[39m set3))\n",
      "\u001b[0;31mTypeError\u001b[0m: unsupported operand type(s) for +: 'set' and 'set'"
     ]
    }
   ],
   "source": [
    "set1 = {14, 3, 55}\n",
    "set2 = {82, 49, 62} \n",
    "set3={99,22,17}\n",
    "\n",
    "print(len(set1 + set2 + set3))"
   ]
  },
  {
   "cell_type": "markdown",
   "id": "3dd5d524",
   "metadata": {},
   "source": [
    "Answer: d) Error"
   ]
  },
  {
   "cell_type": "code",
   "execution_count": 29,
   "id": "9c3bf38e",
   "metadata": {},
   "outputs": [],
   "source": [
    "# Question 5:"
   ]
  },
  {
   "cell_type": "markdown",
   "id": "3aea09bb",
   "metadata": {},
   "source": [
    "What keyword is used in Python to raise exceptions?"
   ]
  },
  {
   "cell_type": "markdown",
   "id": "13d5a9df",
   "metadata": {},
   "source": [
    "Answer: a) raise"
   ]
  },
  {
   "cell_type": "code",
   "execution_count": 30,
   "id": "9aa8a19e",
   "metadata": {},
   "outputs": [],
   "source": [
    "# Question 6:"
   ]
  },
  {
   "cell_type": "markdown",
   "id": "47e37da6",
   "metadata": {},
   "source": [
    "Which of the following modules need to be imported to handle date time computations in Python?"
   ]
  },
  {
   "cell_type": "markdown",
   "id": "d0bc9e11",
   "metadata": {},
   "source": [
    "Answer: c) datetime"
   ]
  },
  {
   "cell_type": "code",
   "execution_count": 31,
   "id": "cac8b2d3",
   "metadata": {},
   "outputs": [],
   "source": [
    "# Question 7:"
   ]
  },
  {
   "cell_type": "markdown",
   "id": "a62f594a",
   "metadata": {},
   "source": [
    "What will be the output of the following code snippet?"
   ]
  },
  {
   "cell_type": "code",
   "execution_count": 32,
   "id": "12f3fcf5",
   "metadata": {},
   "outputs": [
    {
     "name": "stdout",
     "output_type": "stream",
     "text": [
      "208\n"
     ]
    }
   ],
   "source": [
    "print(4**3 + (7 + 5)**(1 + 1))"
   ]
  },
  {
   "cell_type": "markdown",
   "id": "679bf66f",
   "metadata": {},
   "source": [
    "Answer: c) 208"
   ]
  },
  {
   "cell_type": "code",
   "execution_count": 33,
   "id": "3e477d50",
   "metadata": {},
   "outputs": [],
   "source": [
    "# Question 8:"
   ]
  },
  {
   "cell_type": "markdown",
   "id": "6504e10c",
   "metadata": {},
   "source": [
    "Which of the following functions converts date to corresponding time in Python?"
   ]
  },
  {
   "cell_type": "markdown",
   "id": "b13af4a7",
   "metadata": {},
   "source": [
    "Answer: b) strftime"
   ]
  },
  {
   "cell_type": "code",
   "execution_count": 34,
   "id": "e7a557a1",
   "metadata": {},
   "outputs": [],
   "source": [
    "# Question 9:"
   ]
  },
  {
   "cell_type": "markdown",
   "id": "ce7d95da",
   "metadata": {},
   "source": [
    "The python tuple is _____ in nature."
   ]
  },
  {
   "cell_type": "markdown",
   "id": "e9769f9c",
   "metadata": {},
   "source": [
    "Answer: b) immutable"
   ]
  },
  {
   "cell_type": "code",
   "execution_count": 35,
   "id": "e19d313b",
   "metadata": {},
   "outputs": [],
   "source": [
    "# Question 10:"
   ]
  },
  {
   "cell_type": "markdown",
   "id": "0ce75231",
   "metadata": {},
   "source": [
    "The ___ is a built-in function that returns a range object that consists series of integer numbers, which we can iterate using a for loop."
   ]
  },
  {
   "cell_type": "markdown",
   "id": "58c0c4d2",
   "metadata": {},
   "source": [
    "Answer: A. range()"
   ]
  },
  {
   "cell_type": "code",
   "execution_count": 36,
   "id": "46ced88c",
   "metadata": {},
   "outputs": [],
   "source": [
    "# Question 11:"
   ]
  },
  {
   "cell_type": "markdown",
   "id": "25caebd9",
   "metadata": {},
   "source": [
    "Amongst which of the following is a function which does not have any name?"
   ]
  },
  {
   "cell_type": "markdown",
   "id": "3cc40a6a",
   "metadata": {},
   "source": [
    "Answer: C. Lambda function"
   ]
  },
  {
   "cell_type": "code",
   "execution_count": 37,
   "id": "672d72a5",
   "metadata": {},
   "outputs": [],
   "source": [
    "# Question 12:"
   ]
  },
  {
   "cell_type": "markdown",
   "id": "68af2205",
   "metadata": {},
   "source": [
    "The module Pickle is used to ___."
   ]
  },
  {
   "cell_type": "markdown",
   "id": "59754f0d",
   "metadata": {},
   "source": [
    "Answer: C. Both A and B"
   ]
  },
  {
   "cell_type": "code",
   "execution_count": 39,
   "id": "12a02234",
   "metadata": {},
   "outputs": [],
   "source": [
    "# Question 13:"
   ]
  },
  {
   "cell_type": "markdown",
   "id": "ee9a7677",
   "metadata": {},
   "source": [
    "Amongst which of the following is / are the method of convert Python objects for writing data in a binary file?"
   ]
  },
  {
   "cell_type": "markdown",
   "id": "88e05664",
   "metadata": {},
   "source": [
    "Answer: B. dump() method"
   ]
  },
  {
   "cell_type": "code",
   "execution_count": 40,
   "id": "224f9ad7",
   "metadata": {},
   "outputs": [],
   "source": [
    "# Question 14:"
   ]
  },
  {
   "cell_type": "markdown",
   "id": "249dfb0b",
   "metadata": {},
   "source": [
    "Amongst which of the following is / are the method used to unpickling data from a binary file?"
   ]
  },
  {
   "cell_type": "markdown",
   "id": "3c67cb71",
   "metadata": {},
   "source": [
    "Answer: A. load()"
   ]
  },
  {
   "cell_type": "code",
   "execution_count": 41,
   "id": "34b574f1",
   "metadata": {},
   "outputs": [],
   "source": [
    "# Question 15:"
   ]
  },
  {
   "cell_type": "markdown",
   "id": "4cf402ff",
   "metadata": {},
   "source": [
    "A text file contains only textual information consisting of ___."
   ]
  },
  {
   "cell_type": "markdown",
   "id": "e7d77c66",
   "metadata": {},
   "source": [
    "Answer: D. All of the mentioned above"
   ]
  },
  {
   "cell_type": "code",
   "execution_count": 42,
   "id": "6cc90602",
   "metadata": {},
   "outputs": [],
   "source": [
    "# Question 16:"
   ]
  },
  {
   "cell_type": "markdown",
   "id": "bd8bf580",
   "metadata": {},
   "source": [
    "Which Python code could replace the ellipsis (...) below to get the following output?(Select all that apply.)\n",
    "\n",
    "\n",
    "captains = { \"Enterprise\": \"Picard\", \n",
    "             \"Voyager\": \"Janeway\",\n",
    "             \"Defiant\": \"Sisko\",\n",
    "           }\n",
    "Enterprise Picard,\n",
    "    Voyager Janeway \n",
    "    Defiant Sisko\n",
    "   "
   ]
  },
  {
   "cell_type": "markdown",
   "id": "e387b60d",
   "metadata": {},
   "source": [
    "Answer: d) both a and b"
   ]
  },
  {
   "cell_type": "code",
   "execution_count": 43,
   "id": "c8d54588",
   "metadata": {},
   "outputs": [],
   "source": [
    "# Question 17:"
   ]
  },
  {
   "cell_type": "markdown",
   "id": "db2195e8",
   "metadata": {},
   "source": [
    "Which of the following lines of code will create an empty dictionary named captains?"
   ]
  },
  {
   "cell_type": "markdown",
   "id": "8da7f954",
   "metadata": {},
   "source": [
    "Answer: d) captains = {}"
   ]
  },
  {
   "cell_type": "code",
   "execution_count": 44,
   "id": "ccbb5e44",
   "metadata": {},
   "outputs": [],
   "source": [
    "# Question 18:"
   ]
  },
  {
   "cell_type": "markdown",
   "id": "84aebb27",
   "metadata": {},
   "source": [
    "Now you have your empty dictionary named. It’s time to add some data! \n",
    "Specifically, you want to add the key-value pairs \"Enterprise\": \"Picard\", \"Voyager\": \"Janeway\",\n",
    "and \"Defiant\": \"Sisko\".\n",
    "    \n",
    "Which of the following code snippets will successfully add these key-value pairs to the existing dictionary?\n"
   ]
  },
  {
   "cell_type": "markdown",
   "id": "22ca7108",
   "metadata": {},
   "source": [
    "Answer: b) captains[\"Enterprise\"] = \"Picard\" captains[\"Voyager\"] = \"Janeway\" captains[\"Defiant\"] = \"Sisko\""
   ]
  },
  {
   "cell_type": "code",
   "execution_count": 45,
   "id": "de099256",
   "metadata": {},
   "outputs": [],
   "source": [
    "# Question 19:"
   ]
  },
  {
   "cell_type": "markdown",
   "id": "75da9f12",
   "metadata": {},
   "source": [
    "You’re really building out the Federation Starfleet now! Here’s what you have:\n",
    "captains = {\n",
    "    \"Enterprise\": \"Picard\",\n",
    "    \"Voyager\": \"Janeway\",\n",
    "    \"Defiant\": \"Sisko\",\n",
    "    \"Discovery\": \"unknown\",\n",
    "\n",
    "}Now, say you want to display the ship and captain names contained in the dictionary, \n",
    " but you also want to provide some additional context. How could you do it?"
   ]
  },
  {
   "cell_type": "markdown",
   "id": "e5cf218f",
   "metadata": {},
   "source": [
    "Answer: b) for ship, captain in captains.items(): \n",
    "           print(f\"The {ship} is captained by {captain}.\") \n"
   ]
  },
  {
   "cell_type": "code",
   "execution_count": 46,
   "id": "cbe3151b",
   "metadata": {},
   "outputs": [],
   "source": [
    "# Question 20:"
   ]
  },
  {
   "cell_type": "markdown",
   "id": "f30e0277",
   "metadata": {},
   "source": [
    "You’ve created a dictionary, added data, checked for the existence of keys, and iterated over it with\n",
    "a for loop. Now you’re ready to delete a key from this dictionary:\n",
    "    \n",
    "captains = {\n",
    "    \"Enterprise\": \"Picard\",\n",
    "    \"Voyager\": \"Janeway\", \n",
    "    \"Defiant\": \"Sisko\",\n",
    "    \"Discovery\": \"unknown\",\n",
    "}"
   ]
  },
  {
   "cell_type": "markdown",
   "id": "4512c70f",
   "metadata": {},
   "source": [
    "Answer: c) del captains[\"Discovery\"]"
   ]
  },
  {
   "cell_type": "code",
   "execution_count": null,
   "id": "c36b4f77",
   "metadata": {},
   "outputs": [],
   "source": []
  },
  {
   "cell_type": "code",
   "execution_count": null,
   "id": "8441a744",
   "metadata": {},
   "outputs": [],
   "source": []
  }
 ],
 "metadata": {
  "kernelspec": {
   "display_name": "Python 3 (ipykernel)",
   "language": "python",
   "name": "python3"
  },
  "language_info": {
   "codemirror_mode": {
    "name": "ipython",
    "version": 3
   },
   "file_extension": ".py",
   "mimetype": "text/x-python",
   "name": "python",
   "nbconvert_exporter": "python",
   "pygments_lexer": "ipython3",
   "version": "3.11.4"
  }
 },
 "nbformat": 4,
 "nbformat_minor": 5
}
